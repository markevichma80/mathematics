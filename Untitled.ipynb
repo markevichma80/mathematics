{
 "cells": [
  {
   "cell_type": "code",
   "execution_count": 1,
   "metadata": {},
   "outputs": [],
   "source": [
    "import numpy as np\n",
    "import scipy.linalg"
   ]
  },
  {
   "cell_type": "markdown",
   "metadata": {},
   "source": [
    "# Методичка 1"
   ]
  },
  {
   "cell_type": "markdown",
   "metadata": {},
   "source": [
    "__1.__ Исследовать на линейную зависимость:\n",
    "$$f_{1}(x)=e^{x}, f_{2}(x)=1, f_{3}(x)=x+1, f_{4}(x)=x-e^{x}.$$"
   ]
  },
  {
   "cell_type": "markdown",
   "metadata": {},
   "source": [
    "__1.__Решение :\n",
    "$$f_{4}=(-1)*f_{1}(x)+(-1)*f_{2}(x)+f_{3}(x)$$\n",
    "По скольку один элемент можно представить в виде линейной комбинацией других - они линейно зависимы"
   ]
  },
  {
   "cell_type": "markdown",
   "metadata": {},
   "source": [
    "__2.__ Исследовать на линейную зависимость:\n",
    "$$f_{1}(x)=2, f_{2}(x)=x, f_{3}(x)=x^{2}, f_{4}(x)=(x+1)^{2}.$$"
   ]
  },
  {
   "cell_type": "markdown",
   "metadata": {},
   "source": [
    "__2.__ Решение:\n",
    "По скольку один элемент можно представить в виде линейной комбинацией других - они линейно зависимы\n",
    "$$f_{4}(x)=f_{3}(x)+2*f_{2}(x)+0.5*f_{1}(x)$$\n"
   ]
  },
  {
   "cell_type": "markdown",
   "metadata": {},
   "source": [
    "__3.__Найти координаты вектора $x = (2, 3, 5)\\in \\mathbb{R}^{3}$ в базисе $b_{1}=(0, 0, 10)$, $b_{2}=(2, 0, 0)$, $b_{3}=(0, 1, 0)$."
   ]
  },
  {
   "cell_type": "markdown",
   "metadata": {},
   "source": [
    "__3.__ Решение:\n",
    "    Нужно записать матрицу перехода :\n",
    "$B=\\left(\n",
    "\\begin{array}{cccc}\n",
    "0 & 2 & 0\\\\\n",
    "0 & 0 & 1\\\\\n",
    "10 & 0 & 0\\end{array}\n",
    "\\right)$\n",
    "Тогда координаты в вектора х найдём из уравнения $$x_{1} = B^{-1}*x$$"
   ]
  },
  {
   "cell_type": "code",
   "execution_count": 18,
   "metadata": {},
   "outputs": [
    {
     "name": "stdout",
     "output_type": "stream",
     "text": [
      "координаты x в новом базисе: [0.5 1.  3. ]\n"
     ]
    }
   ],
   "source": [
    "b = np.array([[0,2,0],[0,0,1],[10,0,0]])\n",
    "x = np.array([2,3,5])\n",
    "x_1 = np.dot(np.linalg.inv(b),x)\n",
    "print(f'координаты x в новом базисе: {x_1}')  \n"
   ]
  },
  {
   "cell_type": "markdown",
   "metadata": {},
   "source": [
    "__4.__ Найти координаты вектора $3x^{2}-2x+2\\in\\mathbb{R}^{3}[x]$:\n",
    "\n",
    "   а) в базисе $1$, $x$, $x^{2}$;\n",
    "\n",
    "   б) в базисе $x^{2}$, $x-1$, $1$."
   ]
  },
  {
   "cell_type": "markdown",
   "metadata": {},
   "source": [
    "__4.1__ Решение:\n",
    "Координаты вектора в базисе $1$, $x$, $x^{2}$ "
   ]
  },
  {
   "cell_type": "code",
   "execution_count": 14,
   "metadata": {},
   "outputs": [
    {
     "name": "stdout",
     "output_type": "stream",
     "text": [
      "Координаты вектора в новом базисе \n",
      " [2. 2. 3.]\n"
     ]
    }
   ],
   "source": [
    "b_4_1 = np.array([[0,0,1],[0,1,0],[1,0,0]])\n",
    "x_4 = np.array([3,2,2])\n",
    "print('Координаты вектора в новом базисе','\\n',np.dot(np.linalg.inv(b_4_1),x_4))"
   ]
  },
  {
   "cell_type": "markdown",
   "metadata": {},
   "source": [
    "__4.2__ Решение:\n",
    "Координаты вектора в базисе $x^{2}$, $x-1$, $1$ "
   ]
  },
  {
   "cell_type": "code",
   "execution_count": 15,
   "metadata": {},
   "outputs": [
    {
     "name": "stdout",
     "output_type": "stream",
     "text": [
      "Координаты вектора в новом базисе \n",
      " [3. 4. 2.]\n"
     ]
    }
   ],
   "source": [
    "b_4_2 = np.array([[1,0,0],[0,1,-1],[0,0,1]])\n",
    "x_4 = np.array([3,2,2])\n",
    "print('Координаты вектора в новом базисе','\\n',np.dot(np.linalg.inv(b_4_2),x_4))"
   ]
  },
  {
   "cell_type": "markdown",
   "metadata": {},
   "source": [
    "__5.__ Установить, является ли линейным подпространством:\n",
    "\n",
    "а) совокупность всех векторов трехмерного пространства, у которых по крайней мере одна из первых двух координат равна нулю;\n",
    "    \n",
    "б) все векторы, являющиеся линейными комбинациями данных векторов $\\{u_{1}, u_{2}, ..., u_{n}\\}$."
   ]
  },
  {
   "cell_type": "markdown",
   "metadata": {},
   "source": [
    "__5.a__ Решение:\n",
    "Линейным подпространством являтся не будет, так как должно выполняться условие что для любых векторов х и у принадлежащих этому пространству их сумма так же должна принадлежать этому пространству.\n",
    "Возьмём х = $\\{0, x_{2},..., x_{n}\\}$  и у = $\\{y_{1}, 0,..., y_{n}\\}$ их сумма уже не принадлежит заданному подпространству"
   ]
  },
  {
   "cell_type": "markdown",
   "metadata": {},
   "source": [
    "__5.б__ Решение\n",
    "Будет так как любые векторы х и у из подпросмтранства будут удовлетворять утверждению :\n",
    "__Утверждение__\n",
    "\n",
    "Подмножество $L$ линейного пространства $V$ является его подпространством тогда и только тогда, когда для любых элементов $u, v\\in L$ и любого $\\alpha \\in \\mathbb{R}$ выполняются условия:\n",
    "\n",
    "$$1)\\ u+v\\in L;$$\n",
    "\n",
    "$$2)\\ \\alpha\\cdot u \\in L.$$\n",
    "\n",
    "\n"
   ]
  },
  {
   "cell_type": "markdown",
   "metadata": {},
   "source": [
    "# Методичка 2"
   ]
  },
  {
   "cell_type": "markdown",
   "metadata": {},
   "source": [
    "__1.__ Найти скалярное произведение векторов $x, y \\in \\mathbb{R}$:<br>\n",
    "а) $x=(0,-3, 6),~y=(-4, 7, 9);$<br>\n",
    "б) $x=(7, -4, 0, 1),~y=(-3, 1, 11, 2).$ "
   ]
  },
  {
   "cell_type": "code",
   "execution_count": 20,
   "metadata": {},
   "outputs": [
    {
     "name": "stdout",
     "output_type": "stream",
     "text": [
      "скалярное произведение векторов а: 33 ,\n",
      "скалярное произведение векторов б: -23\n"
     ]
    }
   ],
   "source": [
    "#a\n",
    "x_a = np.array([0,-3,6])\n",
    "y_a = np.array([-4,7,9])\n",
    "#б\n",
    "x_b = np.array([7,-4,0,1])\n",
    "y_b = np.array([-3,1,11,2])\n",
    "\n",
    "print(f'скалярное произведение векторов а: {np.dot(x_a,y_a)} ,\\nскалярное произведение векторов б: {np.dot(x_b,y_b)}')"
   ]
  },
  {
   "cell_type": "markdown",
   "metadata": {},
   "source": [
    "__2.__ Найти нормы векторов $(4, 2, 4)$ и $(12, 3, 4)$ и угол между ними.\n"
   ]
  },
  {
   "cell_type": "code",
   "execution_count": 27,
   "metadata": {},
   "outputs": [
    {
     "name": "stdout",
     "output_type": "stream",
     "text": [
      "Норма вектора х: 6.0, норма вектора у: 13.0,\n",
      "угол между векторами 0.45687400353266105\n"
     ]
    }
   ],
   "source": [
    "x = np.array([4,2,4])\n",
    "y = np.array([12,3,4])\n",
    "norm_x = scipy.linalg.norm(x)\n",
    "norm_y = scipy.linalg.norm(y)\n",
    "skal_x_y = np.dot(x,y)\n",
    "phi = np.arccos(skal_x_y/(norm_x*norm_y))\n",
    "print(f'Норма вектора х: {norm_x}, норма вектора у: {norm_y},\\nугол между векторами {phi}')"
   ]
  },
  {
   "cell_type": "markdown",
   "metadata": {},
   "source": [
    "__3.__ Будет ли линейное пространство евклидовым, если за скалярное произведение принять:<br>\n",
    "а) произведение длин векторов;<br>\n",
    "б) утроенное обычное скалярное произведение векторов?\n",
    "   "
   ]
  },
  {
   "cell_type": "code",
   "execution_count": null,
   "metadata": {},
   "outputs": [],
   "source": []
  },
  {
   "cell_type": "markdown",
   "metadata": {},
   "source": [
    "__4.__ Какие из нижеперечисленных векторов образуют ортонормированный базис в линейном пространстве $\\mathbb{R}^{3}$:<br>\n",
    "а) $(1,0,0),(0,0,1);$ <br>\n",
    "б) $(1/\\sqrt{2},-1/\\sqrt{2},0),(1/\\sqrt{2},1/\\sqrt{2},0), (0,0,1);$<br>\n",
    "в) $(1/2, -1/2, 0), (0, 1/2, 1/2), (0,0,1);$<br>\n",
    "г) $(1,0,0),(0,1,0),(0,0,1)?$ "
   ]
  },
  {
   "cell_type": "markdown",
   "metadata": {},
   "source": [
    "__4.a__ Не является базисом\n",
    "__4.г__ Является, длинна векторов =1 угол между вектарами 90 градусов"
   ]
  },
  {
   "cell_type": "code",
   "execution_count": 43,
   "metadata": {},
   "outputs": [
    {
     "name": "stdout",
     "output_type": "stream",
     "text": [
      "1.0 1.0 1.0 0.0 0.0 0.0 \n",
      "ортонормированный базис, длинна векторов 1 угол между ними 90 градусов \n"
     ]
    }
   ],
   "source": [
    "# б\n",
    "x_n = np.array([1/2**0.5,-1/2**0.5,0])\n",
    "y_n = np.array([1/2**0.5,1/2**0.5,0])\n",
    "z_n = np.array([0,0,1])\n",
    "print(scipy.linalg.norm(x_n),scipy.linalg.norm(y_n),scipy.linalg.norm(z_n), np.dot(x_n,y_n), np.dot(x_n,z_n), np.dot(y_n,z_n),\n",
    "      '\\nортонормированный базис, длинна векторов 1 угол между ними 90 градусов ')"
   ]
  },
  {
   "cell_type": "code",
   "execution_count": 44,
   "metadata": {},
   "outputs": [
    {
     "name": "stdout",
     "output_type": "stream",
     "text": [
      "0.7071067811865476 0.7071067811865476 1.0 -0.25 0.0 0.5 \n",
      "ортонормированный базис, длинна векторов 1 угол между ними 90 градусов \n"
     ]
    }
   ],
   "source": [
    "# в\n",
    "x_n = np.array([1/2,-1/2,0])\n",
    "y_n = np.array([0,1/2,1/2])\n",
    "z_n = np.array([0,0,1])\n",
    "print(scipy.linalg.norm(x_n),scipy.linalg.norm(y_n),scipy.linalg.norm(z_n), np.dot(x_n,y_n), np.dot(x_n,z_n), np.dot(y_n,z_n),\n",
    "      '\\nне являеется ортонормированным базисом')"
   ]
  }
 ],
 "metadata": {
  "kernelspec": {
   "display_name": "Python 3",
   "language": "python",
   "name": "python3"
  },
  "language_info": {
   "codemirror_mode": {
    "name": "ipython",
    "version": 3
   },
   "file_extension": ".py",
   "mimetype": "text/x-python",
   "name": "python",
   "nbconvert_exporter": "python",
   "pygments_lexer": "ipython3",
   "version": "3.6.8"
  }
 },
 "nbformat": 4,
 "nbformat_minor": 2
}
